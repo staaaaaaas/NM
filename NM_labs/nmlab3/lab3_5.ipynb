{
 "cells": [
  {
   "cell_type": "markdown",
   "metadata": {},
   "source": [
    "# Функция"
   ]
  },
  {
   "cell_type": "code",
   "execution_count": 1,
   "metadata": {},
   "outputs": [],
   "source": [
    "import numpy as np\n",
    "import matplotlib.pyplot as plt"
   ]
  },
  {
   "cell_type": "code",
   "execution_count": 2,
   "metadata": {},
   "outputs": [],
   "source": [
    "def f(x):\n",
    "    return x / (2 * x + 5)\n",
    "x_0 = -1\n",
    "x_1 = 1\n",
    "h1 = 0.5\n",
    "h2 = 0.25\n",
    "\n",
    "def accuracy(f1, f2):\n",
    "    return abs(f1 - f2)"
   ]
  },
  {
   "cell_type": "code",
   "execution_count": 3,
   "metadata": {},
   "outputs": [
    {
     "data": {
      "text/plain": [
       "-0.05912232548400409"
      ]
     },
     "execution_count": 3,
     "metadata": {},
     "output_type": "execute_result"
    }
   ],
   "source": [
    "# вычислим точное значение интеграла\n",
    "def f_integrated(a, b):\n",
    "    return 0.25 * ((2 * b - 5 * np.log(2 * b + 5) + 5) - (2 * a - 5 * np.log(2 * a + 5) + 5))\n",
    "\n",
    "I = f_integrated(x_0, x_1)\n",
    "I"
   ]
  },
  {
   "cell_type": "markdown",
   "metadata": {},
   "source": [
    "# Метод прямоуголь "
   ]
  },
  {
   "cell_type": "code",
   "execution_count": 44,
   "metadata": {},
   "outputs": [],
   "source": [
    "def rectangle_integration(a, b, h):\n",
    "    integ = 0.0\n",
    "    x = a\n",
    "    while x < b:\n",
    "        integ += f(x + h / 2)\n",
    "        x += h\n",
    "    return h*integ\n"
   ]
  },
  {
   "cell_type": "code",
   "execution_count": 45,
   "metadata": {},
   "outputs": [
    {
     "data": {
      "text/plain": [
       "-0.05450105450105448"
      ]
     },
     "execution_count": 45,
     "metadata": {},
     "output_type": "execute_result"
    }
   ],
   "source": [
    "# результат шаг h1\n",
    "R1 = rectangle_integration(x_0, x_1, h1)\n",
    "R1"
   ]
  },
  {
   "cell_type": "code",
   "execution_count": 46,
   "metadata": {},
   "outputs": [
    {
     "data": {
      "text/plain": [
       "-0.05794799368631646"
      ]
     },
     "execution_count": 46,
     "metadata": {},
     "output_type": "execute_result"
    }
   ],
   "source": [
    "# результат шаг h2\n",
    "R2 = rectangle_integration(x_0, x_1, h2)\n",
    "R2"
   ]
  },
  {
   "cell_type": "markdown",
   "metadata": {},
   "source": [
    "# Метод трапеций"
   ]
  },
  {
   "cell_type": "code",
   "execution_count": 37,
   "metadata": {},
   "outputs": [],
   "source": [
    "def trapeze_integration(a, b, h):\n",
    "    integ = f(a) / 2\n",
    "    x = a + h\n",
    "    while x < b:\n",
    "        integ += f(x)\n",
    "        x += h\n",
    "    return h*(integ + f(x) / 2)\n"
   ]
  },
  {
   "cell_type": "code",
   "execution_count": 38,
   "metadata": {},
   "outputs": [
    {
     "data": {
      "text/plain": [
       "-0.06845238095238095"
      ]
     },
     "execution_count": 38,
     "metadata": {},
     "output_type": "execute_result"
    }
   ],
   "source": [
    "# результат шаг h1\n",
    "T1 = trapeze_integration(x_0, x_1, h1)\n",
    "T1"
   ]
  },
  {
   "cell_type": "code",
   "execution_count": 39,
   "metadata": {},
   "outputs": [
    {
     "data": {
      "text/plain": [
       "-0.06147671772671775"
      ]
     },
     "execution_count": 39,
     "metadata": {},
     "output_type": "execute_result"
    }
   ],
   "source": [
    "# результат шаг h1\n",
    "T2 = trapeze_integration(x_0, x_1, h2)\n",
    "T2"
   ]
  },
  {
   "cell_type": "markdown",
   "metadata": {},
   "source": [
    "# Метод Симпсона"
   ]
  },
  {
   "cell_type": "code",
   "execution_count": 29,
   "metadata": {},
   "outputs": [],
   "source": [
    "def simpson_integration(a, b, h):\n",
    "    integ = 0.0\n",
    "    x = a + h\n",
    "    while x < b:\n",
    "        integ += f(x - h) + 4*f(x) + f(x + h)\n",
    "        x += h + h\n",
    "    return h*integ/3"
   ]
  },
  {
   "cell_type": "code",
   "execution_count": 30,
   "metadata": {},
   "outputs": [
    {
     "data": {
      "text/plain": [
       "-0.059523809523809514"
      ]
     },
     "execution_count": 30,
     "metadata": {},
     "output_type": "execute_result"
    }
   ],
   "source": [
    "# результат шаг h1\n",
    "S1 = simpson_integration(x_0, x_1, h1)\n",
    "S1"
   ]
  },
  {
   "cell_type": "code",
   "execution_count": 31,
   "metadata": {},
   "outputs": [
    {
     "data": {
      "text/plain": [
       "-0.05915149665149664"
      ]
     },
     "execution_count": 31,
     "metadata": {},
     "output_type": "execute_result"
    }
   ],
   "source": [
    "# результат шаг h1\n",
    "S2 = simpson_integration(x_0, x_1, h2)\n",
    "S2"
   ]
  },
  {
   "cell_type": "markdown",
   "metadata": {},
   "source": [
    "# Метод Рунге-Ромберга-Ричардсона"
   ]
  },
  {
   "cell_type": "code",
   "execution_count": 13,
   "metadata": {},
   "outputs": [],
   "source": [
    "def runge_romberg_richardson(h1, F1, h2, F2, p):\n",
    "    if h1 < h2:\n",
    "        return F1 + (F1 - F2) / ((h2 / h1)**p - 1)\n",
    "    else:\n",
    "        return F2 + (F2 - F1) / ((h1 / h2)**p - 1)"
   ]
  },
  {
   "cell_type": "code",
   "execution_count": 14,
   "metadata": {},
   "outputs": [
    {
     "data": {
      "text/plain": [
       "-0.05909697341473712"
      ]
     },
     "execution_count": 14,
     "metadata": {},
     "output_type": "execute_result"
    }
   ],
   "source": [
    "# метод прямоугольников\n",
    "RRR_R = runge_romberg_richardson(h1, R1, h2, R2, 2)\n",
    "RRR_R"
   ]
  },
  {
   "cell_type": "code",
   "execution_count": 15,
   "metadata": {},
   "outputs": [
    {
     "data": {
      "text/plain": [
       "2.535206926697342e-05"
      ]
     },
     "execution_count": 15,
     "metadata": {},
     "output_type": "execute_result"
    }
   ],
   "source": [
    "# погрешность \n",
    "accuracy(RRR_R, I)"
   ]
  },
  {
   "cell_type": "code",
   "execution_count": 47,
   "metadata": {},
   "outputs": [
    {
     "data": {
      "text/plain": [
       "-0.05915149665149668"
      ]
     },
     "execution_count": 47,
     "metadata": {},
     "output_type": "execute_result"
    }
   ],
   "source": [
    "# метод трапеций\n",
    "RRR_T = runge_romberg_richardson(h1, T1, h2, T2, 2)\n",
    "RRR_T"
   ]
  },
  {
   "cell_type": "code",
   "execution_count": 17,
   "metadata": {},
   "outputs": [
    {
     "data": {
      "text/plain": [
       "2.917116749259069e-05"
      ]
     },
     "execution_count": 17,
     "metadata": {},
     "output_type": "execute_result"
    }
   ],
   "source": [
    "# погрешность \n",
    "accuracy(RRR_T, I)"
   ]
  },
  {
   "cell_type": "code",
   "execution_count": 32,
   "metadata": {},
   "outputs": [
    {
     "data": {
      "text/plain": [
       "-0.05912667579334245"
      ]
     },
     "execution_count": 32,
     "metadata": {},
     "output_type": "execute_result"
    }
   ],
   "source": [
    "# метод Симпсона\n",
    "RRR_S = runge_romberg_richardson(h1, S1, h2, S2, 4)\n",
    "RRR_S"
   ]
  },
  {
   "cell_type": "code",
   "execution_count": 33,
   "metadata": {},
   "outputs": [
    {
     "data": {
      "text/plain": [
       "4.3503093383606695e-06"
      ]
     },
     "execution_count": 33,
     "metadata": {},
     "output_type": "execute_result"
    }
   ],
   "source": [
    "# погрешность \n",
    "accuracy(RRR_S, I)"
   ]
  },
  {
   "cell_type": "markdown",
   "metadata": {},
   "source": [
    "# График"
   ]
  },
  {
   "cell_type": "code",
   "execution_count": 20,
   "metadata": {},
   "outputs": [
    {
     "data": {
      "text/plain": [
       "<matplotlib.legend.Legend at 0xde755cd148>"
      ]
     },
     "execution_count": 20,
     "metadata": {},
     "output_type": "execute_result"
    },
    {
     "data": {
      "image/png": "[encoded data removed]",
      "text/plain": [
       "<Figure size 720x360 with 1 Axes>"
      ]
     },
     "metadata": {
      "needs_background": "light"
     },
     "output_type": "display_data"
    }
   ],
   "source": [
    "# зависимость погрешности относительно метода Рунге-Ромберга-Ричардсона\n",
    "\n",
    "x = [0.01,0.02,0.025,0.05, 0.1, 0.2, 0.25, 0.5]\n",
    "\n",
    "y1 = list(map(lambda step: accuracy(RRR_R, rectangle_integration(x_0, x_1, step)), x))\n",
    "y2 = list(map(lambda step: accuracy(RRR_T, trapeze_integration(x_0, x_1, step)), x))\n",
    "y3 = list(map(lambda step: accuracy(RRR_S, simpson_integration(x_0, x_1, step)), x))\n",
    "\n",
    "fig = plt.figure(figsize=(10, 5))\n",
    "\n",
    "plt.plot(x, y1,'r', label = 'Rectangle integration')\n",
    "plt.plot(x, y2,'g', label = 'Trapeze integration')\n",
    "plt.plot(x, y3,'b', label = 'Simpson integration')\n",
    "\n",
    "plt.xlabel('h')\n",
    "plt.ylabel('accuracy')\n",
    "\n",
    "plt.title('Dependence the accuracy from step')\n",
    "plt.xlim(0.0, 0.3)\n",
    "plt.ylim(-0.0001,0.005)\n",
    "\n",
    "plt.legend(loc='upper center')\n"
   ]
  },
  {
   "cell_type": "code",
   "execution_count": 57,
   "metadata": {},
   "outputs": [
    {
     "data": {
      "text/plain": [
       "<matplotlib.legend.Legend at 0xde79bf3108>"
      ]
     },
     "execution_count": 57,
     "metadata": {},
     "output_type": "execute_result"
    },
    {
     "data": {
      "image/png": "[encoded data removed]",
      "text/plain": [
       "<Figure size 720x360 with 1 Axes>"
      ]
     },
     "metadata": {
      "needs_background": "light"
     },
     "output_type": "display_data"
    }
   ],
   "source": [
    "x = [(x_1 - x_0) / i + 0.000001 for i in range(6, 14, 2)]\n",
    "\n",
    "y1 = list(map(lambda step: np.log(accuracy(RRR_R, rectangle_integration(x_0, x_1, step))), x))\n",
    "y2 = list(map(lambda step: np.log(accuracy(RRR_T, trapeze_integration(x_0, x_1, step))), x))\n",
    "y3 = list(map(lambda step: np.log(accuracy(RRR_S, simpson_integration(x_0, x_1, step))), x))\n",
    "\n",
    "fig = plt.figure(figsize=(10, 5))\n",
    "\n",
    "plt.plot(x, y1,'r', label = 'Rectangle integration')\n",
    "plt.plot(x, y2,'g', label = 'Trapeze integration')\n",
    "plt.plot(x, y3,'b', label = 'Simpson integration')\n",
    "\n",
    "plt.xlabel('h')\n",
    "plt.ylabel('log_accuracy')\n",
    "\n",
    "plt.title('Dependence the accuracy from step')\n",
    "plt.ylim(-16,6)\n",
    "plt.xlim(0.2, 0.33)\n",
    "plt.legend(loc='upper center')\n"
   ]
  },
  {
   "cell_type": "code",
   "execution_count": null,
   "metadata": {},
   "outputs": [],
   "source": []
  }
 ],
 "metadata": {
  "kernelspec": {
   "display_name": "Python 3",
   "language": "python",
   "name": "python3"
  },
  "language_info": {
   "codemirror_mode": {
    "name": "ipython",
    "version": 3
   },
   "file_extension": ".py",
   "mimetype": "text/x-python",
   "name": "python",
   "nbconvert_exporter": "python",
   "pygments_lexer": "ipython3",
   "version": "3.7.6"
  },
  "toc": {
   "base_numbering": 1,
   "nav_menu": {},
   "number_sections": true,
   "sideBar": true,
   "skip_h1_title": false,
   "title_cell": "Table of Contents",
   "title_sidebar": "Contents",
   "toc_cell": false,
   "toc_position": {},
   "toc_section_display": true,
   "toc_window_display": true
  }
 },
 "nbformat": 4,
 "nbformat_minor": 4
}
