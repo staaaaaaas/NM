{
 "cells": [
  {
   "cell_type": "code",
   "execution_count": 1,
   "metadata": {},
   "outputs": [],
   "source": [
    "import numpy as np\n",
    "import matplotlib.pyplot as plt\n",
    "import lab1_1"
   ]
  },
  {
   "cell_type": "markdown",
   "metadata": {},
   "source": [
    "# Построим функцию по точкам"
   ]
  },
  {
   "cell_type": "code",
   "execution_count": 2,
   "metadata": {},
   "outputs": [],
   "source": [
    "x = [-1.0, 0.0, 1.0, 2.0, 3.0, 4.0]\n",
    "f_x = [-0.5, 0.0, 0.5, 0.86603, 1.0, 0.86603]"
   ]
  },
  {
   "cell_type": "code",
   "execution_count": 3,
   "metadata": {},
   "outputs": [
    {
     "data": {
      "text/plain": [
       "<matplotlib.legend.Legend at 0xa25ef83308>"
      ]
     },
     "execution_count": 3,
     "metadata": {},
     "output_type": "execute_result"
    },
    {
     "data": {
      "image/png": "[encoded data removed]",
      "text/plain": [
       "<Figure size 720x360 with 1 Axes>"
      ]
     },
     "metadata": {
      "needs_background": "light"
     },
     "output_type": "display_data"
    }
   ],
   "source": [
    "figure = plt.figure(figsize=(10, 5))\n",
    "plt.plot(x,f_x,'r', label = 'f(x)')\n",
    "plt.title('F(x)')\n",
    "for i in range(len(x)):\n",
    "    plt.scatter(x[i], f_x[i])\n",
    "plt.legend(loc='lower center')"
   ]
  },
  {
   "cell_type": "markdown",
   "metadata": {},
   "source": [
    "# Метод наименьших квадратов"
   ]
  },
  {
   "cell_type": "code",
   "execution_count": 4,
   "metadata": {},
   "outputs": [],
   "source": [
    "def F(coefs, x):\n",
    "    return sum([x ** i * c for i, c in enumerate(coefs)])\n",
    "\n",
    "def sum_squared_err(F, y):\n",
    "    return sum([(f_i - y_i) ** 2 for f_i, y_i in zip(F, y)])\n",
    "\n",
    "def least_square_method(n, x, y):\n",
    "    N = len(x)\n",
    "    mat = [[sum([x_j ** (i + j) for x_j in x]) for i in range(n + 1)] for j in range(n + 1)]\n",
    "    mat[0][0] = N + 1\n",
    "    b = [sum([x_j ** i * y_j for x_j, y_j in zip(x, y)]) for i in range(n + 1)]  \n",
    "    coefs = lab1_1.LUP_solution(mat, b)\n",
    "    return coefs\n"
   ]
  },
  {
   "cell_type": "markdown",
   "metadata": {},
   "source": [
    "# Приближённый многочлен 1-ой степени МНК"
   ]
  },
  {
   "cell_type": "code",
   "execution_count": 5,
   "metadata": {},
   "outputs": [
    {
     "data": {
      "text/plain": [
       "[0.014178235294117571, 0.292534705882353]"
      ]
     },
     "execution_count": 5,
     "metadata": {},
     "output_type": "execute_result"
    }
   ],
   "source": [
    "# коэффициенты \n",
    "\n",
    "coefs1 = least_square_method(1, x, f_x)\n",
    "coefs1"
   ]
  },
  {
   "cell_type": "code",
   "execution_count": 6,
   "metadata": {},
   "outputs": [
    {
     "data": {
      "text/plain": [
       "[-0.2783564705882354,\n",
       " 0.014178235294117571,\n",
       " 0.3067129411764705,\n",
       " 0.5992476470588235,\n",
       " 0.8917823529411765,\n",
       " 1.1843170588235294]"
      ]
     },
     "execution_count": 6,
     "metadata": {},
     "output_type": "execute_result"
    }
   ],
   "source": [
    "# значение функции\n",
    "\n",
    "F1 = [F(coefs1, i) for i in x]\n",
    "F1"
   ]
  },
  {
   "cell_type": "code",
   "execution_count": 7,
   "metadata": {},
   "outputs": [
    {
     "data": {
      "text/plain": [
       "0.2708772983851211"
      ]
     },
     "execution_count": 7,
     "metadata": {},
     "output_type": "execute_result"
    }
   ],
   "source": [
    "# значение квадрата ошибки\n",
    "err1 = sum_squared_err(F1, f_x)\n",
    "err1"
   ]
  },
  {
   "cell_type": "code",
   "execution_count": 8,
   "metadata": {},
   "outputs": [
    {
     "data": {
      "text/plain": [
       "<matplotlib.legend.Legend at 0xa25f2d6ec8>"
      ]
     },
     "execution_count": 8,
     "metadata": {},
     "output_type": "execute_result"
    },
    {
     "data": {
      "image/png": "[encoded data removed]",
      "text/plain": [
       "<Figure size 720x360 with 1 Axes>"
      ]
     },
     "metadata": {
      "needs_background": "light"
     },
     "output_type": "display_data"
    }
   ],
   "source": [
    "# график\n",
    "\n",
    "figure = plt.figure(figsize=(10, 5))\n",
    "plt.plot(x,F1,'r', label = 'f(x)')\n",
    "plt.title('least square method n = 1')\n",
    "for i in range(len(x)):\n",
    "    plt.scatter(x[i], f_x[i])\n",
    "plt.legend(loc='lower center')"
   ]
  },
  {
   "cell_type": "markdown",
   "metadata": {},
   "source": [
    "# Приближённый многочлен 2-ой степени МНК"
   ]
  },
  {
   "cell_type": "code",
   "execution_count": 9,
   "metadata": {},
   "outputs": [
    {
     "data": {
      "text/plain": [
       "[0.05625284153005476, 0.5413759484777513, -0.08174494925839176]"
      ]
     },
     "execution_count": 9,
     "metadata": {},
     "output_type": "execute_result"
    }
   ],
   "source": [
    "# коэффициенты \n",
    "\n",
    "coefs2 = least_square_method(2, x, f_x)\n",
    "coefs2"
   ]
  },
  {
   "cell_type": "code",
   "execution_count": 10,
   "metadata": {},
   "outputs": [
    {
     "data": {
      "text/plain": [
       "[-0.5668680562060883,\n",
       " 0.05625284153005476,\n",
       " 0.5158838407494142,\n",
       " 0.8120249414519902,\n",
       " 0.9446761436377826,\n",
       " 0.9138374473067916]"
      ]
     },
     "execution_count": 10,
     "metadata": {},
     "output_type": "execute_result"
    }
   ],
   "source": [
    "# значение функции\n",
    "\n",
    "F2 = [F(coefs2, i) for i in x]\n",
    "F2"
   ]
  },
  {
   "cell_type": "code",
   "execution_count": 11,
   "metadata": {},
   "outputs": [
    {
     "data": {
      "text/plain": [
       "0.016150842967491665"
      ]
     },
     "execution_count": 11,
     "metadata": {},
     "output_type": "execute_result"
    }
   ],
   "source": [
    "# значение квадрата ошибки\n",
    "err2 = sum_squared_err(F2, f_x)\n",
    "err2"
   ]
  },
  {
   "cell_type": "code",
   "execution_count": 12,
   "metadata": {},
   "outputs": [
    {
     "data": {
      "text/plain": [
       "<matplotlib.legend.Legend at 0xa25f746f48>"
      ]
     },
     "execution_count": 12,
     "metadata": {},
     "output_type": "execute_result"
    },
    {
     "data": {
      "image/png": "[encoded data removed]",
      "text/plain": [
       "<Figure size 720x360 with 1 Axes>"
      ]
     },
     "metadata": {
      "needs_background": "light"
     },
     "output_type": "display_data"
    }
   ],
   "source": [
    "# график\n",
    "\n",
    "figure = plt.figure(figsize=(10, 5))\n",
    "plt.plot(x,F2,'r', label = 'f(x)')\n",
    "plt.title('least square method n = 2')\n",
    "for i in range(len(x)):\n",
    "    plt.scatter(x[i], f_x[i])\n",
    "plt.legend(loc='lower center')"
   ]
  },
  {
   "cell_type": "code",
   "execution_count": null,
   "metadata": {},
   "outputs": [],
   "source": []
  }
 ],
 "metadata": {
  "kernelspec": {
   "display_name": "Python 3",
   "language": "python",
   "name": "python3"
  },
  "language_info": {
   "codemirror_mode": {
    "name": "ipython",
    "version": 3
   },
   "file_extension": ".py",
   "mimetype": "text/x-python",
   "name": "python",
   "nbconvert_exporter": "python",
   "pygments_lexer": "ipython3",
   "version": "3.7.6"
  },
  "toc": {
   "base_numbering": 1,
   "nav_menu": {},
   "number_sections": true,
   "sideBar": true,
   "skip_h1_title": false,
   "title_cell": "Table of Contents",
   "title_sidebar": "Contents",
   "toc_cell": false,
   "toc_position": {},
   "toc_section_display": true,
   "toc_window_display": true
  }
 },
 "nbformat": 4,
 "nbformat_minor": 4
}
