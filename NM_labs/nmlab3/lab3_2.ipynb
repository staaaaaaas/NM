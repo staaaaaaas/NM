{
 "cells": [
  {
   "cell_type": "code",
   "execution_count": 2,
   "metadata": {},
   "outputs": [],
   "source": [
    "import numpy as np\n",
    "import matplotlib.pyplot as plt"
   ]
  },
  {
   "cell_type": "code",
   "execution_count": 3,
   "metadata": {},
   "outputs": [],
   "source": [
    "x = [0.0, 1.0, 2.0, 3.0, 4.0]\n",
    "f_x = [0.0, 0.5, 0.86603, 1.0, 0.86603]\n",
    "x_ans = 1.5\n",
    "y_ans = 0.683015"
   ]
  },
  {
   "cell_type": "code",
   "execution_count": 4,
   "metadata": {},
   "outputs": [
    {
     "data": {
      "text/plain": [
       "<matplotlib.legend.Legend at 0xad6cc72bc8>"
      ]
     },
     "execution_count": 4,
     "metadata": {},
     "output_type": "execute_result"
    },
    {
     "data": {
      "image/png": "[encoded data removed]",
      "text/plain": [
       "<Figure size 720x360 with 1 Axes>"
      ]
     },
     "metadata": {
      "needs_background": "light"
     },
     "output_type": "display_data"
    }
   ],
   "source": [
    "figure = plt.figure(figsize=(10, 5))\n",
    "plt.plot(x,f_x,'r', label = 'f(x)')\n",
    "plt.title('F(x)')\n",
    "for i in range(len(x)):\n",
    "    plt.scatter(x[i], f_x[i])\n",
    "plt.legend(loc='lower center')"
   ]
  },
  {
   "cell_type": "code",
   "execution_count": 6,
   "metadata": {},
   "outputs": [],
   "source": [
    "#метод прогонки\n",
    "def tridig_matrix_algorithm(A, b):\n",
    "    P = [-elem[2] for elem in A]\n",
    "    Q = [elem for elem in b]\n",
    "    \n",
    "    P[0] /= A[0][1]\n",
    "    Q[0] /= A[0][1]\n",
    "    \n",
    "    for i in range(1, len(b)):\n",
    "        z = (A[i][1] + A[i][0] * P[i-1])\n",
    "        P[i] /= z\n",
    "        Q[i] -= A[i][0] * Q[i-1]\n",
    "        Q[i] /= z\n",
    "    \n",
    "    x = [item for item in Q]\n",
    "    \n",
    "    for i in range(len(x) - 2, -1, -1):\n",
    "        x[i] += P[i] * x[i + 1]\n",
    "    \n",
    "    return x"
   ]
  },
  {
   "cell_type": "code",
   "execution_count": 11,
   "metadata": {},
   "outputs": [
    {
     "data": {
      "text/plain": [
       "[1.0, 1.0, 1.0, 1.0]"
      ]
     },
     "execution_count": 11,
     "metadata": {},
     "output_type": "execute_result"
    }
   ],
   "source": [
    "# поиск коэффициентов\n",
    "def h_coef(x):\n",
    "    h = [x[i] - x[i - 1] for i in range(1, len(x))]\n",
    "    return h\n",
    "\n",
    "h = h_coef(x)\n",
    "h"
   ]
  },
  {
   "cell_type": "code",
   "execution_count": 12,
   "metadata": {},
   "outputs": [
    {
     "data": {
      "text/plain": [
       "[0.0, -0.07228125000000005, -0.11278499999999991, -0.17275875000000007]"
      ]
     },
     "execution_count": 12,
     "metadata": {},
     "output_type": "execute_result"
    }
   ],
   "source": [
    "def c_coef(h, y):\n",
    "    A = [[h[i - 1], 2.0*(h[i - 1] + h[i]), h[i]] for i in range(1, len(h))]\n",
    "    A[0][0] = A[-1][2] = 0.0\n",
    "    B = [3.0*((y[i + 1] - y[i])/h[i] - (y[i] - y[i - 1])/h[i - 1]) for i in range(1, len(h))]\n",
    "    return [0.0] + tridig_matrix_algorithm(A, B)\n",
    "\n",
    "c = c_coef(h, f_x)\n",
    "c"
   ]
  },
  {
   "cell_type": "code",
   "execution_count": 13,
   "metadata": {},
   "outputs": [
    {
     "data": {
      "text/plain": [
       "[0.0, 0.5, 0.86603, 1.0]"
      ]
     },
     "execution_count": 13,
     "metadata": {},
     "output_type": "execute_result"
    }
   ],
   "source": [
    "def a_coef(y):\n",
    "    a = list(y[:len(y)-1])\n",
    "    return a\n",
    "\n",
    "a = a_coef(f_x)\n",
    "a"
   ]
  },
  {
   "cell_type": "code",
   "execution_count": 15,
   "metadata": {},
   "outputs": [
    {
     "data": {
      "text/plain": [
       "[0.52409375, 0.45181249999999995, 0.26674624999999996, -0.01879749999999998]"
      ]
     },
     "execution_count": 15,
     "metadata": {},
     "output_type": "execute_result"
    }
   ],
   "source": [
    "def b_coef(y, h, c):\n",
    "    b = [(y[i] - y[i-1])/h[i-1] - (h[i-1]/3.0)*(2.0*c[i-1] + c[i]) for i in range(1, len(h))]\n",
    "    b.append((y[-1] - y[-2])/h[-1] - (2.0*h[-1]*c[-1])/3.0)\n",
    "    return b\n",
    "\n",
    "b = b_coef(f_x, h, c)\n",
    "b"
   ]
  },
  {
   "cell_type": "code",
   "execution_count": 17,
   "metadata": {},
   "outputs": [
    {
     "data": {
      "text/plain": [
       "[-0.024093750000000014,\n",
       " -0.013501249999999956,\n",
       " -0.019991250000000054,\n",
       " 0.057586250000000026]"
      ]
     },
     "execution_count": 17,
     "metadata": {},
     "output_type": "execute_result"
    }
   ],
   "source": [
    "def d_coef(h, c):\n",
    "    d = [(c[i] - c[i-1])/(3.0*h[i-1]) for i in range(1, len(h))]\n",
    "    d.append(-c[-1]/(3.0*h[-1]))\n",
    "    return d\n",
    "\n",
    "d = d_coef(h, c)\n",
    "d"
   ]
  },
  {
   "cell_type": "code",
   "execution_count": 22,
   "metadata": {},
   "outputs": [],
   "source": [
    "def find_interval(x, p):\n",
    "    for i in range(0, len(p) - 1):\n",
    "        if p[i] <= x and x <= p[i + 1]:\n",
    "            return i\n",
    "\n",
    "def interpolation(X, y):\n",
    "    h = h_coef(X)\n",
    "    c = c_coef(h, y)\n",
    "    a = a_coef(y)\n",
    "    b = b_coef(y, h, c)\n",
    "    d = d_coef(h, c)\n",
    "    def interpol(x):\n",
    "        pos = find_interval(x, X)\n",
    "        if pos < 0:\n",
    "            return b[0]*x + a[0] - b[0]*X[0]\n",
    "        elif pos == len(X) - 1:\n",
    "            return Y[-1] + (b[-1] + 2.0*c[-1]*h[-1] + 3.0*d[-1]*h[-1]*h[-1])*(x - X[-1])\n",
    "        return a[pos] + b[pos]*(x - X[pos]) + c[pos]*((x - X[pos])**2) + d[pos] * ((x - X[pos])**3)\n",
    "    return interpol\n",
    "\n"
   ]
  },
  {
   "cell_type": "code",
   "execution_count": 23,
   "metadata": {},
   "outputs": [
    {
     "data": {
      "text/plain": [
       "0.70614828125"
      ]
     },
     "execution_count": 23,
     "metadata": {},
     "output_type": "execute_result"
    }
   ],
   "source": [
    "Sn = interpolation(x, f_x)\n",
    "Sn(x_ans)"
   ]
  },
  {
   "cell_type": "code",
   "execution_count": 31,
   "metadata": {},
   "outputs": [
    {
     "data": {
      "text/plain": [
       "<matplotlib.legend.Legend at 0xad6dfd8988>"
      ]
     },
     "execution_count": 31,
     "metadata": {},
     "output_type": "execute_result"
    },
    {
     "data": {
      "image/png": "[encoded data removed]",
      "text/plain": [
       "<Figure size 720x360 with 1 Axes>"
      ]
     },
     "metadata": {
      "needs_background": "light"
     },
     "output_type": "display_data"
    }
   ],
   "source": [
    "x_1 = [0.0, 1.0, 2.0, 3.0, 4.0]\n",
    "\n",
    "y1 = list(map(Sn, x_1)) \n",
    "\n",
    "figure = plt.figure(figsize=(10, 5))\n",
    "\n",
    "plt.plot(x_1, y1,'g', label = 'Sn(x)')\n",
    "plt.title('qubic interpolation')\n",
    "for i in range(len(x)):\n",
    "    plt.scatter(x_1[i], y1[i])\n",
    "plt.legend(loc='lower center')"
   ]
  },
  {
   "cell_type": "code",
   "execution_count": 33,
   "metadata": {},
   "outputs": [
    {
     "data": {
      "text/plain": [
       "<matplotlib.legend.Legend at 0xad6dad7d88>"
      ]
     },
     "execution_count": 33,
     "metadata": {},
     "output_type": "execute_result"
    },
    {
     "data": {
      "image/png": "[encoded data removed]",
      "text/plain": [
       "<Figure size 720x360 with 1 Axes>"
      ]
     },
     "metadata": {
      "needs_background": "light"
     },
     "output_type": "display_data"
    }
   ],
   "source": [
    "x_ = np.arange(0, 4.0, 0.005)\n",
    "y = list(map(Sn, x_)) \n",
    "\n",
    "figure = plt.figure(figsize=(10, 5))\n",
    "\n",
    "plt.plot(x_,y,'b', label = 'Sn(x)')\n",
    "plt.title('qubic interpolation')\n",
    "for i in range(len(x_1)):\n",
    "    plt.scatter(x_1[i], y1[i])\n",
    "plt.legend(loc='lower center')"
   ]
  },
  {
   "cell_type": "code",
   "execution_count": null,
   "metadata": {},
   "outputs": [],
   "source": []
  }
 ],
 "metadata": {
  "kernelspec": {
   "display_name": "Python 3",
   "language": "python",
   "name": "python3"
  },
  "language_info": {
   "codemirror_mode": {
    "name": "ipython",
    "version": 3
   },
   "file_extension": ".py",
   "mimetype": "text/x-python",
   "name": "python",
   "nbconvert_exporter": "python",
   "pygments_lexer": "ipython3",
   "version": "3.7.6"
  },
  "toc": {
   "base_numbering": 1,
   "nav_menu": {},
   "number_sections": true,
   "sideBar": true,
   "skip_h1_title": false,
   "title_cell": "Table of Contents",
   "title_sidebar": "Contents",
   "toc_cell": false,
   "toc_position": {},
   "toc_section_display": true,
   "toc_window_display": true
  }
 },
 "nbformat": 4,
 "nbformat_minor": 4
}
