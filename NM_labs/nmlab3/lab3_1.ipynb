{
 "cells": [
  {
   "cell_type": "markdown",
   "metadata": {},
   "source": [
    "#  Функция"
   ]
  },
  {
   "cell_type": "code",
   "execution_count": 2,
   "metadata": {},
   "outputs": [],
   "source": [
    "import numpy as np\n",
    "import operator\n",
    "from functools import reduce\n",
    "import matplotlib.pyplot as plt"
   ]
  },
  {
   "cell_type": "code",
   "execution_count": 5,
   "metadata": {},
   "outputs": [],
   "source": [
    "# функция \n",
    "def f(x):\n",
    "    return np.sin(x)\n",
    "\n",
    "x_ans = np.pi / 4"
   ]
  },
  {
   "cell_type": "markdown",
   "metadata": {},
   "source": [
    "#  Интерполяционный многочлен Лагранжа"
   ]
  },
  {
   "cell_type": "code",
   "execution_count": 27,
   "metadata": {},
   "outputs": [],
   "source": [
    "points1 = [0.1 * np.pi, 0.2 * np.pi, 0.3 * np.pi, 0.4 * np.pi]\n",
    "\n",
    "# омега\n",
    "def w(p, x, i):\n",
    "    return reduce(operator.mul, [x - p[j] for j in range(len(p)) if i != j])\n",
    "\n",
    "\n",
    "def Lagrange_interpolation(x, p):\n",
    "    res = 0\n",
    "    coef = []\n",
    "    for i in range(len(p)):\n",
    "        f_w = f(p[i]) / w(p, p[i], i)\n",
    "        res += f_w * w(p, x, i)\n",
    "        coef.append(f_w)\n",
    "    return res, coef"
   ]
  },
  {
   "cell_type": "code",
   "execution_count": 16,
   "metadata": {},
   "outputs": [
    {
     "data": {
      "text/plain": [
       "0.7069466693335428"
      ]
     },
     "execution_count": 16,
     "metadata": {},
     "output_type": "execute_result"
    }
   ],
   "source": [
    "# значение интерполяционного многочлена лагранжа в точке\n",
    "Lagrange_interpolation(x_ans, points1)[0]"
   ]
  },
  {
   "cell_type": "code",
   "execution_count": 28,
   "metadata": {},
   "outputs": [
    {
     "data": {
      "text/plain": [
       "[-1.6610453724212384,\n",
       " 9.478488151818775,\n",
       " -13.046019725563589,\n",
       " 5.112171997201982]"
      ]
     },
     "execution_count": 28,
     "metadata": {},
     "output_type": "execute_result"
    }
   ],
   "source": [
    "# коэффициенты многочлена\n",
    "Lagrange_interpolation(x_ans, points1)[1]"
   ]
  },
  {
   "cell_type": "code",
   "execution_count": 17,
   "metadata": {},
   "outputs": [
    {
     "data": {
      "text/plain": [
       "0.7071067811865476"
      ]
     },
     "execution_count": 17,
     "metadata": {},
     "output_type": "execute_result"
    }
   ],
   "source": [
    "# значение функции в точке\n",
    "f(x_ans)"
   ]
  },
  {
   "cell_type": "code",
   "execution_count": 18,
   "metadata": {},
   "outputs": [
    {
     "data": {
      "text/plain": [
       "0.00016011185300479625"
      ]
     },
     "execution_count": 18,
     "metadata": {},
     "output_type": "execute_result"
    }
   ],
   "source": [
    "# погрешность\n",
    "abs(f(x_ans) - Lagrange_interpolation(x_ans, points1)[0])"
   ]
  },
  {
   "cell_type": "code",
   "execution_count": 19,
   "metadata": {},
   "outputs": [
    {
     "data": {
      "text/plain": [
       "<matplotlib.legend.Legend at 0x5da27e3448>"
      ]
     },
     "execution_count": 19,
     "metadata": {},
     "output_type": "execute_result"
    },
    {
     "data": {
      "image/png": "[encoded data removed]",
      "text/plain": [
       "<Figure size 432x288 with 1 Axes>"
      ]
     },
     "metadata": {
      "needs_background": "light"
     },
     "output_type": "display_data"
    }
   ],
   "source": [
    "#графики\n",
    "t = np.arange(0, np.pi, 0.1)\n",
    "y1 = np.array([f(i) for i in t])\n",
    "y2 = np.array([Lagrange_interpolation(t[i], points1)[0] for i in range(len(t))])\n",
    "plt.plot(t,y1, label = 'f(x)')\n",
    "plt.plot(t,y2, label = 'L(x)')\n",
    "plt.scatter(x_ans, f(x_ans))\n",
    "plt.title('F(x) and L(x)')\n",
    "plt.legend(loc='lower center')"
   ]
  },
  {
   "cell_type": "markdown",
   "metadata": {},
   "source": [
    "# Интерполяционный многочлен Ньютона"
   ]
  },
  {
   "cell_type": "code",
   "execution_count": 20,
   "metadata": {},
   "outputs": [],
   "source": [
    "points2 = [0.1 * np.pi,  0.2 * np.pi, 0.3 *np.pi, 0.4 * np.pi]\n",
    "\n",
    "# конечные разности\n",
    "def finite_differences(x, p, i):\n",
    "    return reduce(operator.mul, [x - p[j]  for j in range(i + 1)])\n",
    "\n",
    "# вспомогательная функция\n",
    "def foo(x, p, i):\n",
    "    return reduce(operator.mul, [x - p[j] for j in range(i + 1) if x != p[j]])\n",
    "\n",
    "# разделённые разности\n",
    "def separated_differences (p, i):\n",
    "    return reduce(operator.add, [f(p[j]) / foo(p[j], p, i) for j in range(i+1)])\n",
    "\n",
    "def Newton_interpolation(x, p):\n",
    "    res = f(p[0])\n",
    "    coef = []\n",
    "    coef.append(f(p[0]))\n",
    "    for i in range(1, len(p)):\n",
    "        res += separated_differences(p, i) * finite_differences(x, p, i - 1)\n",
    "        coef.append(separated_differences(p, i))\n",
    "    return res, coef"
   ]
  },
  {
   "cell_type": "code",
   "execution_count": 21,
   "metadata": {},
   "outputs": [
    {
     "data": {
      "text/plain": [
       "0.7069466693335428"
      ]
     },
     "execution_count": 21,
     "metadata": {},
     "output_type": "execute_result"
    }
   ],
   "source": [
    "# значение интерполяционного многочлена ньютона в точке\n",
    "Newton_interpolation(x_ans, points2)[0]"
   ]
  },
  {
   "cell_type": "code",
   "execution_count": 22,
   "metadata": {},
   "outputs": [
    {
     "data": {
      "text/plain": [
       "[0.3090169943749474,\n",
       " 0.8873469244938121,\n",
       " -0.2914833943531754,\n",
       " -0.11640494896407017]"
      ]
     },
     "execution_count": 22,
     "metadata": {},
     "output_type": "execute_result"
    }
   ],
   "source": [
    "# коэффициенты многочлена\n",
    "Newton_interpolation(x_ans, points2)[1]"
   ]
  },
  {
   "cell_type": "code",
   "execution_count": 23,
   "metadata": {},
   "outputs": [
    {
     "data": {
      "text/plain": [
       "0.7071067811865476"
      ]
     },
     "execution_count": 23,
     "metadata": {},
     "output_type": "execute_result"
    }
   ],
   "source": [
    "# значение функции в точке\n",
    "f(x_ans)"
   ]
  },
  {
   "cell_type": "code",
   "execution_count": 24,
   "metadata": {},
   "outputs": [
    {
     "data": {
      "text/plain": [
       "0.00016011185300479625"
      ]
     },
     "execution_count": 24,
     "metadata": {},
     "output_type": "execute_result"
    }
   ],
   "source": [
    "# погрешность\n",
    "abs(f(x_ans) - Newton_interpolation(x_ans, points2)[0])"
   ]
  },
  {
   "cell_type": "code",
   "execution_count": 25,
   "metadata": {},
   "outputs": [
    {
     "data": {
      "text/plain": [
       "<matplotlib.legend.Legend at 0x5da76c09c8>"
      ]
     },
     "execution_count": 25,
     "metadata": {},
     "output_type": "execute_result"
    },
    {
     "data": {
      "image/png": "[encoded data removed]",
      "text/plain": [
       "<Figure size 432x288 with 1 Axes>"
      ]
     },
     "metadata": {
      "needs_background": "light"
     },
     "output_type": "display_data"
    }
   ],
   "source": [
    "#графики\n",
    "t = np.arange(0, np.pi, 0.1)\n",
    "y1 = np.array([f(i) for i in t])\n",
    "y2 = np.array([Newton_interpolation(t[i], points2)[0] for i in range(len(t))])\n",
    "plt.plot(t,y1,'g', label = 'f(x)')\n",
    "plt.plot(t,y2,'r', label = 'P(x)')\n",
    "plt.scatter(x_ans, f(x_ans))\n",
    "plt.title('F(x) and P(x)')\n",
    "plt.legend(loc='lower center')"
   ]
  },
  {
   "cell_type": "code",
   "execution_count": null,
   "metadata": {},
   "outputs": [],
   "source": []
  }
 ],
 "metadata": {
  "kernelspec": {
   "display_name": "Python 3",
   "language": "python",
   "name": "python3"
  },
  "language_info": {
   "codemirror_mode": {
    "name": "ipython",
    "version": 3
   },
   "file_extension": ".py",
   "mimetype": "text/x-python",
   "name": "python",
   "nbconvert_exporter": "python",
   "pygments_lexer": "ipython3",
   "version": "3.7.6"
  },
  "toc": {
   "base_numbering": 1,
   "nav_menu": {},
   "number_sections": true,
   "sideBar": true,
   "skip_h1_title": false,
   "title_cell": "Table of Contents",
   "title_sidebar": "Contents",
   "toc_cell": false,
   "toc_position": {},
   "toc_section_display": true,
   "toc_window_display": true
  }
 },
 "nbformat": 4,
 "nbformat_minor": 4
}
