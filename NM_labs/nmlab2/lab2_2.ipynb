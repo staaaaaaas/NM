{
 "cells": [
  {
   "cell_type": "markdown",
   "metadata": {
    "toc": true
   },
   "source": [
    "<h1>Table of Contents<span class=\"tocSkip\"></span></h1>\n",
    "<div class=\"toc\"><ul class=\"toc-item\"><li><span><a href=\"#Анализ-функций\" data-toc-modified-id=\"Анализ-функций-1\"><span class=\"toc-item-num\">1&nbsp;&nbsp;</span>Анализ функций</a></span></li><li><span><a href=\"#Метод-Ньютона\" data-toc-modified-id=\"Метод-Ньютона-2\"><span class=\"toc-item-num\">2&nbsp;&nbsp;</span>Метод Ньютона</a></span></li><li><span><a href=\"#Метод-простых-итераций\" data-toc-modified-id=\"Метод-простых-итераций-3\"><span class=\"toc-item-num\">3&nbsp;&nbsp;</span>Метод простых итераций</a></span></li></ul></div>"
   ]
  },
  {
   "cell_type": "markdown",
   "metadata": {},
   "source": [
    "# Анализ функций"
   ]
  },
  {
   "cell_type": "code",
   "execution_count": 1,
   "metadata": {},
   "outputs": [],
   "source": [
    "import numpy as np\n",
    "import matplotlib.pyplot as plt\n"
   ]
  },
  {
   "cell_type": "code",
   "execution_count": 3,
   "metadata": {},
   "outputs": [],
   "source": [
    "def f1(x):\n",
    "    return (x[0] ** 2 + 4) * x[1] - 8\n",
    "\n",
    "def f2(x):\n",
    "    return (x[0] - 1) ** 2 + (x[1] - 1) ** 2 - 4\n",
    "\n",
    "def df1_1(x):\n",
    "    return 2 * x[0] * x[1]\n",
    "\n",
    "def df1_2(x):\n",
    "    return x[0] ** 2 + 4\n",
    "\n",
    "def df2_1(x):\n",
    "    return 2 *(x[0] - 1)\n",
    "\n",
    "def df2_2(x):\n",
    "    return 2 *(x[1] - 1)\n",
    "\n",
    "a = -1.5\n",
    "b = 3.5"
   ]
  },
  {
   "cell_type": "code",
   "execution_count": 3,
   "metadata": {},
   "outputs": [
    {
     "data": {
      "text/plain": [
       "<matplotlib.contour.QuadContourSet at 0xf539fda908>"
      ]
     },
     "execution_count": 3,
     "metadata": {},
     "output_type": "execute_result"
    },
    {
     "data": {
      "image/png": "[encoded data removed]",
      "text/plain": [
       "<Figure size 432x288 with 1 Axes>"
      ]
     },
     "metadata": {
      "needs_background": "light"
     },
     "output_type": "display_data"
    }
   ],
   "source": [
    "x = np.arange(a,b,0.01)\n",
    "y = np.arange(a,b,0.01)\n",
    "x, y = np.meshgrid(x,y)\n",
    "z1 = (x ** 2 + 4) * y - 8\n",
    "z2 = (x - 1) ** 2 + (y - 1) ** 2 - 4\n",
    "plt.contour(x,y,z1,levels =0,colors = 'green' )\n",
    "plt.contour(x,y,z2,levels =0, colors = 'blue')"
   ]
  },
  {
   "cell_type": "code",
   "execution_count": 4,
   "metadata": {},
   "outputs": [
    {
     "data": {
      "text/plain": [
       "<matplotlib.contour.QuadContourSet at 0xf53a67dec8>"
      ]
     },
     "execution_count": 4,
     "metadata": {},
     "output_type": "execute_result"
    },
    {
     "data": {
      "image/png": "[encoded data removed]",
      "text/plain": [
       "<Figure size 432x288 with 1 Axes>"
      ]
     },
     "metadata": {
      "needs_background": "light"
     },
     "output_type": "display_data"
    }
   ],
   "source": [
    "x = np.arange(2,4,0.01)\n",
    "y = np.arange(0.5,1,0.01)\n",
    "x, y = np.meshgrid(x,y)\n",
    "z1 = (x ** 2 + 4) * y - 8\n",
    "z2 = (x - 1) ** 2 + (y - 1) ** 2 - 4\n",
    "plt.contour(x,y,z1,levels =0,colors = 'green' )\n",
    "plt.contour(x,y,z2,levels =0, colors = 'blue')"
   ]
  },
  {
   "cell_type": "markdown",
   "metadata": {},
   "source": [
    "положительное решение находится в 2.75 < x1 < 3, 0.5 < x2 < 0.7"
   ]
  },
  {
   "cell_type": "markdown",
   "metadata": {},
   "source": [
    "# Метод Ньютона"
   ]
  },
  {
   "cell_type": "code",
   "execution_count": 5,
   "metadata": {},
   "outputs": [],
   "source": [
    "def A1(x):\n",
    "    a = np.zeros((2,2), dtype=int)\n",
    "    a[0, 0] = f1(x)\n",
    "    a[1, 0] = f2(x)\n",
    "    a[0, 1] = df1_2(x)\n",
    "    a[1, 1] = df2_2(x)\n",
    "    return np.linalg.det(a)\n",
    "\n",
    "def A2(x):\n",
    "    a = np.zeros((2,2),dtype=int)\n",
    "    a[0, 0] = df1_1(x)\n",
    "    a[1, 0] = df2_1(x)\n",
    "    a[0, 1] = f1(x)\n",
    "    a[1, 1] = f2(x)\n",
    "    return np.linalg.det(a)\n",
    "\n",
    "def J(x):\n",
    "    a = np.zeros((2,2),dtype=int)\n",
    "    a[0, 0] = df1_1(x)\n",
    "    a[1, 0] = df2_1(x)\n",
    "    a[0, 1] = df1_2(x)\n",
    "    a[1, 1] = df2_2(x)\n",
    "    return np.linalg.det(a)"
   ]
  },
  {
   "cell_type": "code",
   "execution_count": 6,
   "metadata": {},
   "outputs": [],
   "source": [
    "def newton_next(x):\n",
    "    y = [0, 0]\n",
    "    y[0] = x[0] - A1(x) / J(x)\n",
    "    y[1] = x[1] - A2(x) / J(x)\n",
    "    return y\n",
    "\n",
    "\n",
    "def newton(a, b, eps):\n",
    "    count = 0\n",
    "    x = [a, b]\n",
    "    x_next = newton_next(x)\n",
    "    while max(abs(x[0] - x_next[0]), abs(x[1] - x_next[1])) > eps:\n",
    "        x = x_next\n",
    "        x_next = newton_next(x)\n",
    "        count += 1\n",
    "    return x_next, count"
   ]
  },
  {
   "cell_type": "code",
   "execution_count": 7,
   "metadata": {},
   "outputs": [
    {
     "data": {
      "text/plain": [
       "([2.9499999999999993, 0.6265037593984962], 4)"
      ]
     },
     "execution_count": 7,
     "metadata": {},
     "output_type": "execute_result"
    }
   ],
   "source": [
    "a1 = 2\n",
    "b1 = 0\n",
    "newton(a1, b1, 0.001)"
   ]
  },
  {
   "cell_type": "code",
   "execution_count": 8,
   "metadata": {},
   "outputs": [
    {
     "data": {
      "image/png": "[encoded data removed]",
      "text/plain": [
       "<Figure size 432x288 with 1 Axes>"
      ]
     },
     "metadata": {
      "needs_background": "light"
     },
     "output_type": "display_data"
    }
   ],
   "source": [
    "# зависимость от кл-ва итераций\n",
    "point = {i : [newton(a1, b1, i * 0.01)[1], i * 0.01] for i in range(100) }\n",
    "for i in point:\n",
    "    plt.scatter(*point[i] )\n",
    "plt.xlim(0, 10)\n",
    "plt.ylim(0, 1)\n",
    "plt.ylabel('eps')\n",
    "plt.show()"
   ]
  },
  {
   "cell_type": "markdown",
   "metadata": {},
   "source": [
    "# Метод простых итераций"
   ]
  },
  {
   "cell_type": "code",
   "execution_count": 9,
   "metadata": {},
   "outputs": [],
   "source": [
    "def phi1(x):\n",
    "    return 8 / (x[1] ** 2 + 4)\n",
    "    \n",
    "def phi2(x):\n",
    "    return (4 - (x[0] - 1) ** 2) ** 0.5 + 1\n",
    "\n",
    "def dphi1_1(x):\n",
    "    return -16 * x[1] / (x[1] ** 2 + 4) ** 2\n",
    "\n",
    "def dphi1_2(x):\n",
    "    return 0\n",
    "\n",
    "def dphi2_1(x):\n",
    "    return 0\n",
    "\n",
    "def dphi2_2(x):\n",
    "    return (x[0] + 1) / (-(x[0]**2) + 2*x[0] +3) ** 0.5\n",
    "\n",
    "def find_q(x):\n",
    "    maxphi1 = dphi1_1(x) + dphi1_2(x)\n",
    "    maxphi2 = dphi2_1(x) + dphi2_2(x)\n",
    "    return max(maxphi1, maxphi2)\n"
   ]
  },
  {
   "cell_type": "code",
   "execution_count": 16,
   "metadata": {},
   "outputs": [
    {
     "data": {
      "text/plain": [
       "0.7745966692414834"
      ]
     },
     "execution_count": 16,
     "metadata": {},
     "output_type": "execute_result"
    }
   ],
   "source": [
    "a1 = 0.5\n",
    "b1 = 0.2\n",
    "x = [a1, b1]\n",
    "find_q(x)\n"
   ]
  },
  {
   "cell_type": "code",
   "execution_count": 19,
   "metadata": {},
   "outputs": [],
   "source": [
    "def iteration_next(x):\n",
    "    y = [0, 0]\n",
    "    y[0] = phi1(x)\n",
    "    y[1] = phi2(x)\n",
    "    return y\n",
    "\n",
    "def simple_iter(a, b, eps):\n",
    "    count = 0\n",
    "    x = [a, b]\n",
    "    q = find_q(x)\n",
    "    x_next = iteration_next(x)\n",
    "    while max([abs(i - j) for i, j in zip(x_next, x)]) * q / (1 - q) > eps:\n",
    "        x = x_next\n",
    "        x_next = iteration_next(x)\n",
    "        count += 1\n",
    "    return x_next, count\n"
   ]
  },
  {
   "cell_type": "code",
   "execution_count": 20,
   "metadata": {},
   "outputs": [
    {
     "data": {
      "text/plain": [
       "([0.625534279228269, 2.96466758285609], 7)"
      ]
     },
     "execution_count": 20,
     "metadata": {},
     "output_type": "execute_result"
    }
   ],
   "source": [
    "a1 = 0.5\n",
    "b1 = 0.2\n",
    "simple_iter(a1, b1, 0.001)"
   ]
  },
  {
   "cell_type": "code",
   "execution_count": 21,
   "metadata": {},
   "outputs": [
    {
     "data": {
      "image/png": "[encoded data removed]",
      "text/plain": [
       "<Figure size 432x288 with 1 Axes>"
      ]
     },
     "metadata": {
      "needs_background": "light"
     },
     "output_type": "display_data"
    }
   ],
   "source": [
    "# зависимость от кл-ва итераций\n",
    "point = {i : [simple_iter(a1, b1, i * 0.01)[1], i * 0.01] for i in range(100) }\n",
    "for i in point:\n",
    "    plt.scatter(*point[i] )\n",
    "plt.xlim(0, 10)\n",
    "plt.ylim(0, 1)\n",
    "plt.ylabel('eps')\n",
    "plt.show()"
   ]
  },
  {
   "cell_type": "code",
   "execution_count": null,
   "metadata": {},
   "outputs": [],
   "source": []
  }
 ],
 "metadata": {
  "kernelspec": {
   "display_name": "Python 3",
   "language": "python",
   "name": "python3"
  },
  "language_info": {
   "codemirror_mode": {
    "name": "ipython",
    "version": 3
   },
   "file_extension": ".py",
   "mimetype": "text/x-python",
   "name": "python",
   "nbconvert_exporter": "python",
   "pygments_lexer": "ipython3",
   "version": "3.7.6"
  },
  "toc": {
   "base_numbering": 1,
   "nav_menu": {},
   "number_sections": true,
   "sideBar": true,
   "skip_h1_title": false,
   "title_cell": "Table of Contents",
   "title_sidebar": "Contents",
   "toc_cell": true,
   "toc_position": {},
   "toc_section_display": true,
   "toc_window_display": true
  }
 },
 "nbformat": 4,
 "nbformat_minor": 4
}
