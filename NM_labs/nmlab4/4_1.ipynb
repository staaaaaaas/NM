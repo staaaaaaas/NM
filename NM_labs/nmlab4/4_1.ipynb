{
 "cells": [
  {
   "cell_type": "code",
   "execution_count": 87,
   "metadata": {},
   "outputs": [],
   "source": [
    "import matplotlib.pyplot as plt\n",
    "import numpy as np"
   ]
  },
  {
   "cell_type": "markdown",
   "metadata": {},
   "source": [
    "# Задача Коши"
   ]
  },
  {
   "cell_type": "code",
   "execution_count": 37,
   "metadata": {},
   "outputs": [],
   "source": [
    "# точное решение\n",
    "def y(x):\n",
    "    return np.cos(x) + 11/8 * np.sin(x) - np.sin(3 * x) / 8\n",
    "\n",
    "# производная\n",
    "def dy(x):\n",
    "    return 1/8 * (-8 * np.sin(x) + 11 * np.cos(x) - 3 * np.cos(3*x))\n",
    "# z'\n",
    "def f_xyz(x, y, z):\n",
    "    return  np.sin(3 * x) - y\n",
    "\n",
    "# вычисление узловых точек\n",
    "def find_node_points(a, b, h):\n",
    "    return list(np.arange(a, b+h, h))\n",
    "\n",
    "# абсолютная погрешность решения задачи коши\n",
    "def accuracy(x, ans):\n",
    "    norm = 0.0\n",
    "    for i in range(len(x)):\n",
    "        norm += (ans[i] - y(x[i]))**2\n",
    "    return norm**0.5\n",
    "\n",
    "# абсолютная погрешность первлй производной\n",
    "\n",
    "def deriviate_accuracy(x, ans):\n",
    "    norm = 0.0\n",
    "    for i in range(len(x)):\n",
    "        norm += (ans[i] - dy(x[i]))**2\n",
    "    return norm**0.5\n",
    "\n",
    "# метод Рунге-Ромберга-Ричардсона\n",
    "def runge_romberg_richardson(y1, y2, p):\n",
    "    norm = 0.0\n",
    "    for i in range(len(y2)):\n",
    "        norm += (y1[i*2] - y2[i])**2\n",
    "    return (norm**0.5) / (2**p - 1)\n"
   ]
  },
  {
   "cell_type": "markdown",
   "metadata": {},
   "source": [
    "# Явный метод Эйлера"
   ]
  },
  {
   "cell_type": "code",
   "execution_count": 5,
   "metadata": {},
   "outputs": [],
   "source": [
    "def euler_method(x, y0, z0, h, f = f_xyz):\n",
    "    y = [y0]\n",
    "    z = [z0]\n",
    "    for k in range(len(x) - 1):\n",
    "        y.append(y[k] + h*z[k])\n",
    "        z.append(z[k] + h*f(x[k], y[k], z[k]))\n",
    "    return y, z "
   ]
  },
  {
   "cell_type": "code",
   "execution_count": 23,
   "metadata": {},
   "outputs": [
    {
     "name": "stdout",
     "output_type": "stream",
     "text": [
      "Точное решение в узлах сетки:\n",
      "\n",
      "1.0\n",
      "1.095335087334747\n",
      "1.1826565985100712\n",
      "1.2637609095815125\n",
      "1.3400063289313764\n",
      "1.412105804145645\n",
      "1.4799880619680776\n",
      "1.5427403364052044\n",
      "1.5986384367651154\n",
      "1.6452619839792255\n",
      "1.6796849089715142\n",
      "\n",
      "Решение явным методом Эйлера в узлах сетки:\n"
     ]
    },
    {
     "data": {
      "text/plain": [
       "[1,\n",
       " 1.1,\n",
       " 1.1900000000000002,\n",
       " 1.2719552020666136,\n",
       " 1.3476568288671773,\n",
       " 1.4184721727433498,\n",
       " 1.4851313391905228,\n",
       " 1.5475807337763028,\n",
       " 1.6049172912789595,\n",
       " 1.6554101351103419,\n",
       " 1.6966084378344461]"
      ]
     },
     "execution_count": 23,
     "metadata": {},
     "output_type": "execute_result"
    }
   ],
   "source": [
    "a = 0\n",
    "b = 1\n",
    "h = 0.1\n",
    "y0 = 1 \n",
    "z0 = 1\n",
    "\n",
    "x = find_node_points(a,b,h)\n",
    "\n",
    "ans, dans = euler_method(x, y0, z0, h)\n",
    "print('Точное решение в узлах сетки:\\n')\n",
    "for i in x:\n",
    "    print(y(i))\n",
    "print('\\nРешение явным методом Эйлера в узлах сетки:')\n",
    "ans"
   ]
  },
  {
   "cell_type": "code",
   "execution_count": 24,
   "metadata": {},
   "outputs": [
    {
     "name": "stdout",
     "output_type": "stream",
     "text": [
      "Точное значение первой производной решения в узлах сетки:\n",
      "\n",
      "1.0\n",
      "0.9100461271883551\n",
      "0.8394213581455165\n",
      "0.7849637277848696\n",
      "0.7411563665165638\n",
      "0.7007240333696709\n",
      "0.6553947826156798\n",
      "0.5967576095034269\n",
      "0.5171382777807968\n",
      "0.410413850001078\n",
      "0.27269187198596256\n",
      "\n",
      "Значение первой производной решения явным методом Эйлера в узлах сетки:\n"
     ]
    },
    {
     "data": {
      "text/plain": [
       "[1,\n",
       " 0.9,\n",
       " 0.819552020666134,\n",
       " 0.7570162680056375,\n",
       " 0.7081534387617244,\n",
       " 0.6665916644717294,\n",
       " 0.6244939458577998,\n",
       " 0.573365575026567,\n",
       " 0.5049284383138242,\n",
       " 0.4119830272410433,\n",
       " 0.2891800017533921]"
      ]
     },
     "execution_count": 24,
     "metadata": {},
     "output_type": "execute_result"
    }
   ],
   "source": [
    "print('Точное значение первой производной решения в узлах сетки:\\n')\n",
    "for i in x:\n",
    "    print(dy(i))\n",
    "print('\\nЗначение первой производной решения явным методом Эйлера в узлах сетки:')\n",
    "dans"
   ]
  },
  {
   "cell_type": "code",
   "execution_count": 34,
   "metadata": {},
   "outputs": [
    {
     "name": "stdout",
     "output_type": "stream",
     "text": [
      "Погрешность решения 0.026843839986022754\n",
      "Погрешность производной 0.07386770273937948\n"
     ]
    }
   ],
   "source": [
    "# погрешности относительно точного решения\n",
    "print('Погрешность решения:', accuracy(x, ans))\n",
    "print('Погрешность производной:', deriviate_accuracy(x, dans))"
   ]
  },
  {
   "cell_type": "code",
   "execution_count": 39,
   "metadata": {},
   "outputs": [
    {
     "name": "stdout",
     "output_type": "stream",
     "text": [
      "Погрешность решения: 0.01348040979832055\n",
      "Погрешность производной: 0.03806555717780243\n"
     ]
    }
   ],
   "source": [
    "# погрешности с помошью метода Рунге-Ромберга-Ричардсона\n",
    "x_ = find_node_points(a,b,h/2)\n",
    "p = 1\n",
    "ans_, dans_ = euler_method(x_, y0, z0, h/2)\n",
    "print('Погрешность решения:', runge_romberg_richardson(ans_, ans, p))\n",
    "print('Погрешность производной:', runge_romberg_richardson(dans_, dans, p))"
   ]
  },
  {
   "cell_type": "markdown",
   "metadata": {},
   "source": [
    "# Метод Эйлера-Коши"
   ]
  },
  {
   "cell_type": "code",
   "execution_count": 40,
   "metadata": {},
   "outputs": [],
   "source": [
    "def euler_сauchy_method(x, y0, z0, h, f = f_xyz):\n",
    "    y = [y0]\n",
    "    z = [z0]\n",
    "    for k in range(len(x) - 1):\n",
    "        yk = y[k] + h*z[k]\n",
    "        zk = z[k] + h*f(x[k], y[k], z[k])\n",
    "        y.append(y[k] + h*(z[k] + zk) / 2)\n",
    "        z.append(z[k] + h*(f(x[k], y[k], z[k]) + f(x[k+1], yk, zk)) / 2)\n",
    "    return y, z"
   ]
  },
  {
   "cell_type": "code",
   "execution_count": 42,
   "metadata": {},
   "outputs": [
    {
     "name": "stdout",
     "output_type": "stream",
     "text": [
      "Решение явным методом Эйлера-Коши в узлах сетки:\n"
     ]
    },
    {
     "data": {
      "text/plain": [
       "[1,\n",
       " 1.095,\n",
       " 1.1819802020666135,\n",
       " 1.2627670398516777,\n",
       " 1.3387440428912831,\n",
       " 1.4106420103583923,\n",
       " 1.478398339964035,\n",
       " 1.5410988338032254,\n",
       " 1.5970078192031454,\n",
       " 1.6436844109798665,\n",
       " 1.678174918833161]"
      ]
     },
     "execution_count": 42,
     "metadata": {},
     "output_type": "execute_result"
    }
   ],
   "source": [
    "ans1, dans1 = euler_сauchy_method(x, y0, z0, h)\n",
    "print('Решение явным методом Эйлера-Коши в узлах сетки:')\n",
    "ans1"
   ]
  },
  {
   "cell_type": "code",
   "execution_count": 58,
   "metadata": {},
   "outputs": [
    {
     "name": "stdout",
     "output_type": "stream",
     "text": [
      "Значение первой производной решения методом Эйлера-Коши в узлах сетки:\n"
     ]
    },
    {
     "data": {
      "text/plain": [
       "[1,\n",
       " 0.909776010333067,\n",
       " 0.8387352642842204,\n",
       " 0.7837420369072639,\n",
       " 0.7393149225172952,\n",
       " 0.6982206472441445,\n",
       " 0.652232473846197,\n",
       " 0.592984327356916,\n",
       " 0.51284314969981,\n",
       " 0.4057203050702455,\n",
       " 0.2677482568615924]"
      ]
     },
     "execution_count": 58,
     "metadata": {},
     "output_type": "execute_result"
    }
   ],
   "source": [
    "print('Значение первой производной решения методом Эйлера-Коши в узлах сетки:')\n",
    "dans1"
   ]
  },
  {
   "cell_type": "code",
   "execution_count": 59,
   "metadata": {},
   "outputs": [
    {
     "name": "stdout",
     "output_type": "stream",
     "text": [
      "Погрешность решения: 0.004235929445966067\n",
      "Погрешность производной: 0.010042347796049336\n"
     ]
    }
   ],
   "source": [
    "# погрешности относительно точного решения\n",
    "print('Погрешность решения:', accuracy(x, ans1))\n",
    "print('Погрешность производной:', deriviate_accuracy(x, dans1))"
   ]
  },
  {
   "cell_type": "code",
   "execution_count": 46,
   "metadata": {},
   "outputs": [
    {
     "name": "stdout",
     "output_type": "stream",
     "text": [
      "Погрешность решения: 0.0010578711087742426\n",
      "Погрешность производной: 0.002515280487477636\n"
     ]
    }
   ],
   "source": [
    "# погрешности с помошью метода Рунге-Ромберга-Ричардсона\n",
    "p = 2\n",
    "ans1_, dans1_ = euler_сauchy_method(x_, y0, z0, h/2)\n",
    "print('Погрешность решения:', runge_romberg_richardson(ans1_, ans1, p))\n",
    "print('Погрешность производной:', runge_romberg_richardson(dans1_, dans1, p))"
   ]
  },
  {
   "cell_type": "markdown",
   "metadata": {},
   "source": [
    "# Метод Рунге-Кутты 4-го порядка"
   ]
  },
  {
   "cell_type": "code",
   "execution_count": 48,
   "metadata": {},
   "outputs": [],
   "source": [
    "def delta(xk, yk, zk, h, f):\n",
    "    K1 = h * zk\n",
    "    L1 = h * f(xk, yk, zk)\n",
    "    \n",
    "    K2 = h * (zk + L1 / 2)\n",
    "    L2 = h * f(xk + h/2, yk + K1/2, zk + L1/2)\n",
    "    \n",
    "    K3 = h * (zk + L2 / 2)\n",
    "    L3 = h * f(xk + h/2, yk + K2/2, zk + L2/2)\n",
    "    \n",
    "    K4 = h * (zk + L3)\n",
    "    L4 = h * f(xk + h, yk + K3, zk + L3) \n",
    "    \n",
    "    return ((K1 + 2*K2 + 2*K3 + K4)/6, (L1 + 2*L2 + 2*L3 + L4)/6)\n",
    "\n",
    "def runge_kutta_metod(x, y0, z0, h, f = f_xyz):\n",
    "    y = [y0]\n",
    "    z = [z0]\n",
    "    for k in range(len(x) - 1):\n",
    "        delta_ = delta(x[k], y[k], z[k], h, f)\n",
    "        y.append(y[k] + delta_[0])\n",
    "        z.append(z[k] + delta_[1])\n",
    "    return y, z"
   ]
  },
  {
   "cell_type": "code",
   "execution_count": 49,
   "metadata": {},
   "outputs": [
    {
     "name": "stdout",
     "output_type": "stream",
     "text": [
      "Решение явным методом Рунге-Кутты 4-го порядка в узлах сетки:\n"
     ]
    },
    {
     "data": {
      "text/plain": [
       "[1,\n",
       " 1.0953356271082453,\n",
       " 1.1826576518617349,\n",
       " 1.2637624036423156,\n",
       " 1.3400081519779194,\n",
       " 1.4121078170421064,\n",
       " 1.4799901121773358,\n",
       " 1.54274227328357,\n",
       " 1.5986401267383616,\n",
       " 1.6452633242066845,\n",
       " 1.6796858382391104]"
      ]
     },
     "execution_count": 49,
     "metadata": {},
     "output_type": "execute_result"
    }
   ],
   "source": [
    "ans2, dans2 = runge_kutta_metod(x, y0, z0, h)\n",
    "print('Решение методом Рунге-Кутты 4-го порядка в узлах сетки:')\n",
    "ans2"
   ]
  },
  {
   "cell_type": "code",
   "execution_count": 50,
   "metadata": {},
   "outputs": [
    {
     "name": "stdout",
     "output_type": "stream",
     "text": [
      "Значение первой производной решения методом  Рунге-Кутты 4-го порядка в узлах сетки:\n"
     ]
    },
    {
     "data": {
      "text/plain": [
       "[1,\n",
       " 0.9100462590982228,\n",
       " 0.8394216860191286,\n",
       " 0.7849643032176742,\n",
       " 0.7411572248774692,\n",
       " 0.7007251912633723,\n",
       " 0.655396236781026,\n",
       " 0.596759337229289,\n",
       " 0.517140238789805,\n",
       " 0.41041598962515335,\n",
       " 0.2726941253470335]"
      ]
     },
     "execution_count": 50,
     "metadata": {},
     "output_type": "execute_result"
    }
   ],
   "source": [
    "print('Значение первой производной решения методом  Рунге-Кутты 4-го порядка в узлах сетки:')\n",
    "dans2"
   ]
  },
  {
   "cell_type": "code",
   "execution_count": 60,
   "metadata": {},
   "outputs": [
    {
     "name": "stdout",
     "output_type": "stream",
     "text": [
      "Погрешность решения: 4.94762437832343e-06\n",
      "Погрешность производной: 4.597210310309191e-06\n"
     ]
    }
   ],
   "source": [
    "# погрешности относительно точного решения\n",
    "print('Погрешность решения:', accuracy(x, ans2))\n",
    "print('Погрешность производной:', deriviate_accuracy(x, dans2))"
   ]
  },
  {
   "cell_type": "code",
   "execution_count": 52,
   "metadata": {},
   "outputs": [
    {
     "name": "stdout",
     "output_type": "stream",
     "text": [
      "Погрешность решения: 3.095778592171688e-07\n",
      "Погрешность производной: 2.873745174207798e-07\n"
     ]
    }
   ],
   "source": [
    "# погрешности с помошью метода Рунге-Ромберга-Ричардсона\n",
    "p = 4\n",
    "ans2_, dans2_ =  runge_kutta_metod(x_, y0, z0, h/2)\n",
    "print('Погрешность решения:', runge_romberg_richardson(ans2_, ans2, p))\n",
    "print('Погрешность производной:', runge_romberg_richardson(dans2_, dans2, p))"
   ]
  },
  {
   "cell_type": "markdown",
   "metadata": {},
   "source": [
    "# Метод Адамса"
   ]
  },
  {
   "cell_type": "code",
   "execution_count": 53,
   "metadata": {},
   "outputs": [],
   "source": [
    "def adams_z(x, y, z, h, f, k):\n",
    "    return z[k] + h*(\n",
    "        55*f(x[k], y[k], z[k]) - \n",
    "        59*f(x[k-1], y[k-1], z[k-1]) +\n",
    "        37*f(x[k-2], y[k-2], z[k-2]) -\n",
    "        9*f(x[k-3], y[k-3], z[k-3])) / 24\n",
    "\n",
    "def adams_y(x, y, z, h, f, k):\n",
    "    return y[k] + h*(55*z[k] - 59*z[k-1] + 37*z[k-2] - 9*z[k-3]) / 24\n",
    "\n",
    "def adams_method(x, y0, z0, h, f = f_xyz):\n",
    "    y, z =  runge_kutta_metod(x[:4], y0, z0, h, f)\n",
    "    for k in range(3, len(x)-1):\n",
    "        y.append(adams_y(x, y, z, h, f, k))\n",
    "        z.append(adams_z(x, y, z, h, f, k))\n",
    "    return y, z"
   ]
  },
  {
   "cell_type": "code",
   "execution_count": 55,
   "metadata": {},
   "outputs": [
    {
     "name": "stdout",
     "output_type": "stream",
     "text": [
      "Решение методом Адамса порядка в узлах сетки:\n"
     ]
    },
    {
     "data": {
      "text/plain": [
       "[1,\n",
       " 1.0953356271082453,\n",
       " 1.1826576518617349,\n",
       " 1.2637624036423156,\n",
       " 1.3400910235943062,\n",
       " 1.4122145726434183,\n",
       " 1.4800771969519535,\n",
       " 1.5427507994315532,\n",
       " 1.5985056548991532,\n",
       " 1.644931864659306,\n",
       " 1.67911251213556]"
      ]
     },
     "execution_count": 55,
     "metadata": {},
     "output_type": "execute_result"
    }
   ],
   "source": [
    "ans3, dans3 = adams_method(x, y0, z0, h)\n",
    "print('Решение методом Адамса в узлах сетки:')\n",
    "ans3"
   ]
  },
  {
   "cell_type": "code",
   "execution_count": 56,
   "metadata": {},
   "outputs": [
    {
     "name": "stdout",
     "output_type": "stream",
     "text": [
      "Значение первой производной решения методом Адамса в узлах сетки:\n"
     ]
    },
    {
     "data": {
      "text/plain": [
       "[1,\n",
       " 0.9100462590982228,\n",
       " 0.8394216860191286,\n",
       " 0.7849643032176742,\n",
       " 0.7409883565601074,\n",
       " 0.7002992513856906,\n",
       " 0.6546805447835414,\n",
       " 0.5957298247676969,\n",
       " 0.5158156928947453,\n",
       " 0.4088473211225085,\n",
       " 0.2709605708093236]"
      ]
     },
     "execution_count": 56,
     "metadata": {},
     "output_type": "execute_result"
    }
   ],
   "source": [
    "print('Значение первой производной решения методом Адамса в узлах сетки:')\n",
    "dans3"
   ]
  },
  {
   "cell_type": "code",
   "execution_count": 61,
   "metadata": {},
   "outputs": [
    {
     "name": "stdout",
     "output_type": "stream",
     "text": [
      "Погрешность решения: 0.0006937649836605093\n",
      "Погрешность производной: 0.0029959626085283558\n"
     ]
    }
   ],
   "source": [
    "# погрешности относительно точного решения\n",
    "print('Погрешность решения:', accuracy(x, ans3))\n",
    "print('Погрешность производной:', deriviate_accuracy(x, dans3))"
   ]
  },
  {
   "cell_type": "code",
   "execution_count": 57,
   "metadata": {},
   "outputs": [
    {
     "name": "stdout",
     "output_type": "stream",
     "text": [
      "Погрешность решения: 4.209768918383403e-05\n",
      "Погрешность производной: 0.00018467548098755282\n"
     ]
    }
   ],
   "source": [
    "# погрешности с помошью метода Рунге-Ромберга-Ричардсона\n",
    "p = 4\n",
    "ans3_, dans3_ = adams_method(x_, y0, z0, h/2)\n",
    "print('Погрешность решения:', runge_romberg_richardson(ans3_, ans3, p))\n",
    "print('Погрешность производной:', runge_romberg_richardson(dans3_, dans3, p))"
   ]
  },
  {
   "cell_type": "code",
   "execution_count": 73,
   "metadata": {},
   "outputs": [
    {
     "data": {
      "text/plain": [
       "<matplotlib.legend.Legend at 0x3e16a46448>"
      ]
     },
     "execution_count": 73,
     "metadata": {},
     "output_type": "execute_result"
    },
    {
     "data": {
      "image/png": "[encoded data removed]",
      "text/plain": [
       "<Figure size 1080x504 with 1 Axes>"
      ]
     },
     "metadata": {
      "needs_background": "light"
     },
     "output_type": "display_data"
    }
   ],
   "source": [
    "solution = []\n",
    "for i in x:\n",
    "    solution.append(y(i))\n",
    "\n",
    "fig = plt.figure(figsize=(15, 7))\n",
    "\n",
    "plt.plot(x, ans,'r', label = 'Euler method')\n",
    "plt.plot(x, ans1,'g', label = 'Euler-Cauchy method')\n",
    "plt.plot(x, ans2,'b', label = 'Runge-Kutta metod')\n",
    "plt.plot(x, ans2,'y', label = 'Adams metod')\n",
    "plt.plot(x, solution,'k', label = 'Solution')\n",
    "\n",
    "plt.xlabel('x')\n",
    "plt.ylabel('y')\n",
    "plt.grid()\n",
    "plt.legend(loc='upper center')"
   ]
  },
  {
   "cell_type": "code",
   "execution_count": 75,
   "metadata": {},
   "outputs": [
    {
     "data": {
      "text/plain": [
       "<matplotlib.legend.Legend at 0x3e17272508>"
      ]
     },
     "execution_count": 75,
     "metadata": {},
     "output_type": "execute_result"
    },
    {
     "data": {
      "image/png": "[encoded data removed]",
      "text/plain": [
       "<Figure size 1080x504 with 1 Axes>"
      ]
     },
     "metadata": {
      "needs_background": "light"
     },
     "output_type": "display_data"
    }
   ],
   "source": [
    "dsolution = []\n",
    "for i in x:\n",
    "    dsolution.append(dy(i))\n",
    "\n",
    "fig = plt.figure(figsize=(15, 7))\n",
    "\n",
    "plt.plot(x, dans,'r', label = 'Euler method')\n",
    "plt.plot(x, dans1,'g', label = 'Euler-Cauchy method')\n",
    "plt.plot(x, dans2,'b', label = 'Runge-Kutta metod')\n",
    "plt.plot(x, dans2,'y', label = 'Adams metod')\n",
    "plt.plot(x, dsolution,'k', label = 'Solution')\n",
    "\n",
    "plt.xlabel('x')\n",
    "plt.ylabel('y\\'')\n",
    "\n",
    "plt.grid()\n",
    "plt.legend(loc='upper center')"
   ]
  },
  {
   "cell_type": "code",
   "execution_count": 86,
   "metadata": {},
   "outputs": [
    {
     "data": {
      "text/plain": [
       "<matplotlib.legend.Legend at 0x3e18375f08>"
      ]
     },
     "execution_count": 86,
     "metadata": {},
     "output_type": "execute_result"
    },
    {
     "data": {
      "image/png": "[encoded data removed]",
      "text/plain": [
       "<Figure size 1080x504 with 1 Axes>"
      ]
     },
     "metadata": {
      "needs_background": "light"
     },
     "output_type": "display_data"
    }
   ],
   "source": [
    "def accuracy_by_h(y0, z0, h, a, b, met):\n",
    "    xi = find_node_points(a, b, h)\n",
    "    y = met(xi, y0, z0, h)[0]\n",
    "    return accuracy(xi, y)\n",
    "\n",
    "hh = [(b - a) / i for i in range(6, 12, 2)]\n",
    "\n",
    "\n",
    "\n",
    "y1 = list(map(lambda v: np.log(accuracy_by_h(y0, z0, v, a, b, euler_method)), hi))\n",
    "y2 = list(map(lambda v: np.log(accuracy_by_h(y0, z0, v, a, b, euler_сauchy_method)), hi))\n",
    "y3 = list(map(lambda v: np.log(accuracy_by_h(y0, z0, v, a, b, runge_kutta_metod)), hi))\n",
    "y4 = list(map(lambda v: np.log(accuracy_by_h(y0, z0, v, a, b, adams_method)), hi))\n",
    "\n",
    "fig = plt.figure(figsize=(15, 7))\n",
    "\n",
    "plt.plot(hh, y1,'r', label = 'Euler method')\n",
    "plt.plot(hh, y2,'g', label = 'Euler-Cauchy method')\n",
    "plt.plot(hh, y3,'b', label = 'Runge-Kutta metod')\n",
    "plt.plot(hh, y4,'y', label = 'Adams metod')\n",
    "\n",
    "plt.xlabel('h')\n",
    "plt.ylabel('ln accuracy')\n",
    "\n",
    "plt.grid()\n",
    "plt.legend(loc='upper center')"
   ]
  }
 ],
 "metadata": {
  "kernelspec": {
   "display_name": "Python 3",
   "language": "python",
   "name": "python3"
  },
  "language_info": {
   "codemirror_mode": {
    "name": "ipython",
    "version": 3
   },
   "file_extension": ".py",
   "mimetype": "text/x-python",
   "name": "python",
   "nbconvert_exporter": "python",
   "pygments_lexer": "ipython3",
   "version": "3.7.6"
  },
  "toc": {
   "base_numbering": 1,
   "nav_menu": {},
   "number_sections": true,
   "sideBar": true,
   "skip_h1_title": false,
   "title_cell": "Table of Contents",
   "title_sidebar": "Contents",
   "toc_cell": false,
   "toc_position": {},
   "toc_section_display": true,
   "toc_window_display": true
  }
 },
 "nbformat": 4,
 "nbformat_minor": 4
}
