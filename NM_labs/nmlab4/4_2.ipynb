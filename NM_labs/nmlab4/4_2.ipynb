{
 "cells": [
  {
   "cell_type": "code",
   "execution_count": 1,
   "metadata": {},
   "outputs": [],
   "source": [
    "import matplotlib.pyplot as plt\n",
    "import numpy as np"
   ]
  },
  {
   "cell_type": "markdown",
   "metadata": {},
   "source": [
    "# ОДУ"
   ]
  },
  {
   "cell_type": "code",
   "execution_count": 2,
   "metadata": {},
   "outputs": [],
   "source": [
    "# решение\n",
    "def y_x(x):\n",
    "    return -1 + (2 + 2*(x + 1)*np.log(abs(x + 1))) / x\n",
    "\n",
    "# z'\n",
    "def f_xyz(x, y, z):\n",
    "    return (2*y - 2*x + 2) / (x*x*(x+1))\n",
    "\n",
    "# абсолютная прогрешность\n",
    "def accuracy(x, y):\n",
    "    norm = 0.0\n",
    "    for i in range(len(x)):\n",
    "        norm += (y[i] - y_x(x[i]))**2\n",
    "    return norm**0.5\n",
    "\n",
    "# поиск узлов\n",
    "def find_node_points(a, b, h):\n",
    "    return list(np.arange(a, b + h/2, h))\n",
    "\n",
    "\n",
    "def runge_romberg_richardson(y1, y2, p):\n",
    "    norm = 0.0\n",
    "    for i in range(len(y2)):\n",
    "        norm += (y1[i*2] - y2[i])**2\n",
    "    return (norm**0.5) / (2**p - 1)"
   ]
  },
  {
   "cell_type": "markdown",
   "metadata": {},
   "source": [
    "# Метод стрельбы"
   ]
  },
  {
   "cell_type": "code",
   "execution_count": 3,
   "metadata": {},
   "outputs": [],
   "source": [
    "# метод рунге-кутты \n",
    "def delta(xk, yk, zk, h, f):\n",
    "    K1 = h * zk\n",
    "    L1 = h * f(xk, yk, zk)\n",
    "    \n",
    "    K2 = h * (zk + L1 / 2)\n",
    "    L2 = h * f(xk + h/2, yk + K1/2, zk + L1/2)\n",
    "    \n",
    "    K3 = h * (zk + L2 / 2)\n",
    "    L3 = h * f(xk + h/2, yk + K2/2, zk + L2/2)\n",
    "    \n",
    "    K4 = h * (zk + L3)\n",
    "    L4 = h * f(xk + h, yk + K3, zk + L3) \n",
    "    \n",
    "    return ((K1 + 2*K2 + 2*K3 + K4)/6, (L1 + 2*L2 + 2*L3 + L4)/6)\n",
    "\n",
    "def runge_kutta_method(x, y0, z0, h, f = f_xyz):\n",
    "    y = [y0]\n",
    "    z = [z0]\n",
    "    for k in range(len(x) - 1):\n",
    "        delta_ = delta(x[k], y[k], z[k], h, f)\n",
    "        y.append(y[k] + delta_[0])\n",
    "        z.append(z[k] + delta_[1])\n",
    "    return y\n",
    "\n",
    "def next_iter(Fi0, Fi1, et0, et1):\n",
    "    return et1 - Fi1 * (et1 - et0) / (Fi1 - Fi0)\n",
    "\n",
    "def shooting_method(x, y0, y1, h, f = f_xyz, e = 0.00001):\n",
    "    et_prev = 1\n",
    "    et_i = 0.8\n",
    "    y_prev = runge_kutta_method(x, y0, et_prev, h, f)\n",
    "    y_i = runge_kutta_method(x, y0, et_i, h, f)\n",
    "    Fi_prev = y_prev[-1] - y1\n",
    "    Fi_i = y_i[-1] - y1\n",
    "    while abs(Fi_i) > e:\n",
    "        et_prev, et_i = et_i, next_iter(Fi_prev, Fi_i, et_prev, et_i)\n",
    "        y_prev, y_i = y_i, runge_kutta_method(x, y0, et_i, h, f)\n",
    "        Fi_prev, Fi_i = Fi_i, y_i[-1] - y1\n",
    "    return y_i"
   ]
  },
  {
   "cell_type": "code",
   "execution_count": 4,
   "metadata": {},
   "outputs": [
    {
     "data": {
      "text/plain": [
       "[3.772588722239781,\n",
       " 3.557710587703006,\n",
       " 3.4302137192853888,\n",
       " 3.355438760475839,\n",
       " 3.314385630895109,\n",
       " 3.2958368660043287]"
      ]
     },
     "execution_count": 4,
     "metadata": {},
     "output_type": "execute_result"
    }
   ],
   "source": [
    "h = 0.2\n",
    "a = 1\n",
    "b = 2\n",
    "y0 = 1 + 4 * np.log(2)\n",
    "y1 = 3 * np.log(3)\n",
    "\n",
    "x = find_node_points(a, b, h)\n",
    "\n",
    "y = shooting_method(x, y0, y1, h)\n",
    "y"
   ]
  },
  {
   "cell_type": "code",
   "execution_count": 5,
   "metadata": {},
   "outputs": [
    {
     "data": {
      "text/plain": [
       "5.7202524815136525e-05"
      ]
     },
     "execution_count": 5,
     "metadata": {},
     "output_type": "execute_result"
    }
   ],
   "source": [
    "# погрешность решения относительно точного\n",
    "accuracy(x, y)"
   ]
  },
  {
   "cell_type": "code",
   "execution_count": 6,
   "metadata": {},
   "outputs": [
    {
     "data": {
      "text/plain": [
       "3.560776535488534e-06"
      ]
     },
     "execution_count": 6,
     "metadata": {},
     "output_type": "execute_result"
    }
   ],
   "source": [
    "# погрешность с помощью метода Рунге-Ромберга-Ричардсона\n",
    "p = 4\n",
    "x_ = find_node_points(a, b, h/2)\n",
    "y_ = shooting_method(x_, y0, y1, h/2)\n",
    "runge_romberg_richardson(y_, y, p)"
   ]
  },
  {
   "cell_type": "markdown",
   "metadata": {},
   "source": [
    "# Конечно-разностный метод"
   ]
  },
  {
   "cell_type": "code",
   "execution_count": 7,
   "metadata": {},
   "outputs": [],
   "source": [
    "def q_x(x):\n",
    "    return -2 / (x*x*(x+1))\n",
    "\n",
    "def p_x(x):\n",
    "    return 0\n",
    "\n",
    "def f_x(x):\n",
    "    return (2 - 2*x) / (x*x*(x+1))\n",
    "\n",
    "# метод прогонки\n",
    "def tridig_matrix_alg(A, b):\n",
    "    P = [-item[2] for item in A]\n",
    "    Q = [item for item in b]\n",
    "    \n",
    "    P[0] /= A[0][1]\n",
    "    Q[0] /= A[0][1]\n",
    "    \n",
    "    for i in range(1, len(b)):\n",
    "        z = (A[i][1] + A[i][0] * P[i-1])\n",
    "        P[i] /= z\n",
    "        Q[i] -= A[i][0] * Q[i-1]\n",
    "        Q[i] /= z\n",
    "    \n",
    "    x = [item for item in Q]\n",
    "    \n",
    "    for i in range(len(x) - 2, -1, -1):\n",
    "        x[i] += P[i] * x[i + 1]\n",
    "    \n",
    "    return x\n",
    "\n",
    "def find_tridig_A(h, p, q, x):\n",
    "    A = [[1 - (p(x[i]))/2, (-2 + h*h*q(x[i])), 1 + (p(x[i])*h)/2] for i in range(1, len(x[:-1]))]\n",
    "    A[0][0] = 0\n",
    "    A[-1][-1] = 0\n",
    "    return A\n",
    "\n",
    "def find_b(h, p, f, x, y0, y1):\n",
    "    b = [h*h*f(x[i]) for i in range(1, len(x[:-1]))]\n",
    "    b[0] -= y0*(1 - p(x[1])*h/2)\n",
    "    b[-1] -= y1*(1 + p(x[-2])*h/2)\n",
    "    return b\n",
    "\n",
    "def finite_differences_method(x, y0, y1, h, p = p_x, q = q_x, f = f_x):\n",
    "    A = find_tridig_A(h, p, q, x)\n",
    "    b = find_b(h, p, f, x, y0, y1)\n",
    "    y = [y0] + tridig_matrix_alg(A, b) + [y1]\n",
    "    return y\n"
   ]
  },
  {
   "cell_type": "code",
   "execution_count": 8,
   "metadata": {},
   "outputs": [
    {
     "data": {
      "text/plain": [
       "[3.772588722239781,\n",
       " 3.5606918948429893,\n",
       " 3.4336610243866756,\n",
       " 3.358223028494762,\n",
       " 3.3159367516953333,\n",
       " 3.295836866004329]"
      ]
     },
     "execution_count": 8,
     "metadata": {},
     "output_type": "execute_result"
    }
   ],
   "source": [
    "yd = finite_differences_method(x, y0, y1, h)\n",
    "yd"
   ]
  },
  {
   "cell_type": "code",
   "execution_count": 9,
   "metadata": {},
   "outputs": [
    {
     "data": {
      "text/plain": [
       "0.005618555966076985"
      ]
     },
     "execution_count": 9,
     "metadata": {},
     "output_type": "execute_result"
    }
   ],
   "source": [
    "# погрешность решения относительно точного\n",
    "accuracy(x, yd)"
   ]
  },
  {
   "cell_type": "code",
   "execution_count": 10,
   "metadata": {},
   "outputs": [
    {
     "data": {
      "text/plain": [
       "0.001391897644023291"
      ]
     },
     "execution_count": 10,
     "metadata": {},
     "output_type": "execute_result"
    }
   ],
   "source": [
    "# погрешность с помощью метода Рунге-Ромберга-Ричардсона\n",
    "p = 2\n",
    "yd_ = finite_differences_method(x_, y0, y1, h/2)\n",
    "runge_romberg_richardson(yd_, yd, p)"
   ]
  },
  {
   "cell_type": "markdown",
   "metadata": {},
   "source": [
    "# График"
   ]
  },
  {
   "cell_type": "code",
   "execution_count": 12,
   "metadata": {},
   "outputs": [
    {
     "data": {
      "text/plain": [
       "<matplotlib.legend.Legend at 0x2a28aa8cc8>"
      ]
     },
     "execution_count": 12,
     "metadata": {},
     "output_type": "execute_result"
    },
    {
     "data": {
      "image/png": "[encoded data removed]",
      "text/plain": [
       "<Figure size 1080x504 with 1 Axes>"
      ]
     },
     "metadata": {
      "needs_background": "light"
     },
     "output_type": "display_data"
    }
   ],
   "source": [
    "solution = []\n",
    "for i in x:\n",
    "    solution.append(y_x(i))\n",
    "\n",
    "fig = plt.figure(figsize=(15, 7))\n",
    "\n",
    "plt.plot(x, y,'r', label = 'Shooting method')\n",
    "plt.plot(x, yd,'g', label = 'Finite differences method')\n",
    "plt.plot(x, solution,'b', label = 'Solution')\n",
    "\n",
    "plt.xlabel('x')\n",
    "plt.ylabel('y')\n",
    "\n",
    "plt.grid()\n",
    "plt.legend(loc='upper center')"
   ]
  },
  {
   "cell_type": "code",
   "execution_count": null,
   "metadata": {},
   "outputs": [],
   "source": []
  }
 ],
 "metadata": {
  "kernelspec": {
   "display_name": "Python 3",
   "language": "python",
   "name": "python3"
  },
  "language_info": {
   "codemirror_mode": {
    "name": "ipython",
    "version": 3
   },
   "file_extension": ".py",
   "mimetype": "text/x-python",
   "name": "python",
   "nbconvert_exporter": "python",
   "pygments_lexer": "ipython3",
   "version": "3.7.6"
  },
  "toc": {
   "base_numbering": 1,
   "nav_menu": {},
   "number_sections": true,
   "sideBar": true,
   "skip_h1_title": false,
   "title_cell": "Table of Contents",
   "title_sidebar": "Contents",
   "toc_cell": false,
   "toc_position": {},
   "toc_section_display": true,
   "toc_window_display": true
  }
 },
 "nbformat": 4,
 "nbformat_minor": 4
}
